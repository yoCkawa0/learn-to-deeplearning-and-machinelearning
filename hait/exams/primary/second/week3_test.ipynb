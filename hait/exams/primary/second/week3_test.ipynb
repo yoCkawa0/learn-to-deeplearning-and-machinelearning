{
 "cells": [
  {
   "cell_type": "markdown",
   "metadata": {},
   "source": [
    "# HAIT Lab 第二回小テスト(〜決定木)"
   ]
  },
  {
   "cell_type": "markdown",
   "metadata": {},
   "source": [
    "### 問1 正則化に関する問題（15点）"
   ]
  },
  {
   "cell_type": "markdown",
   "metadata": {},
   "source": [
    "本問では正弦関数（サインカーブ）に従うようなデータ（点）を多少の誤差を含むようにランダムに10個生成し、それらのデータを多項式回帰を用いて学習させ適切な回帰式を得ることを目指す。その中で正則化を用いることで過学習が改善されることを観察する。"
   ]
  },
  {
   "cell_type": "code",
   "execution_count": null,
   "metadata": {},
   "outputs": [],
   "source": [
    "# コード改変禁止\n",
    "\n",
    "# 必要なライブラリを読み込み\n",
    "import numpy as np\n",
    "import pandas as pd\n",
    "import matplotlib.pyplot as plt\n",
    "%matplotlib inline\n",
    "\n",
    "# 不要な警告を非表示にする\n",
    "import warnings\n",
    "warnings.filterwarnings('ignore')"
   ]
  },
  {
   "cell_type": "code",
   "execution_count": null,
   "metadata": {},
   "outputs": [],
   "source": [
    "# コード改変禁止\n",
    "\n",
    "# 適当なデータセットを生成\n",
    "# 正弦関数を出力する関数を定義\n",
    "def f(X):\n",
    "    return np.sin(X)\n",
    "\n",
    "# サンプルデータの生成\n",
    "# 乱数生成器の状態を指定\n",
    "np.random.seed(3)\n",
    "# 10個のデータ点を生成\n",
    "X = np.linspace(0, 10, 100)\n",
    "rng = np.random.RandomState(0)\n",
    "rng.shuffle(X)\n",
    "X = np.sort(X[:10])\n",
    "# 対応するyを関数で指定\n",
    "y = f(X)\n",
    "# 正規分布に従うノイズを加える\n",
    "y += np.random.normal(0, 0.15, len(y))\n",
    "# sklearnで扱えるように､一列のベクトルに変換\n",
    "X = X.reshape(-1, 1)\n",
    "\n",
    "\n",
    "# 正弦関数をプロットする用のデータを生成\n",
    "# -10~20の範囲に､0.1刻みでデータ点を取る\n",
    "X_plot = np.arange(-10, 20, 0.1)\n",
    "# 対応するyを正弦関数で指定\n",
    "y_plot = f(X_plot)\n",
    "# sklearnで扱えるように､一列のベクトルに変換\n",
    "X_plot = X_plot.reshape(-1, 1)"
   ]
  },
  {
   "cell_type": "code",
   "execution_count": null,
   "metadata": {},
   "outputs": [],
   "source": [
    "# コード改変禁止\n",
    "\n",
    "# グラフを描画\n",
    "# データ点をプロット\n",
    "plt.scatter(X, y)\n",
    "# もととなる関数を描画\n",
    "plt.plot(X_plot, y_plot, color='gray')\n",
    "# 表示範囲を指定\n",
    "plt.xlim([0,10])\n",
    "plt.ylim([-2,2])\n",
    "# グラフを表示\n",
    "plt.show()"
   ]
  },
  {
   "cell_type": "markdown",
   "metadata": {},
   "source": [
    "### （1）今回はまず、あえて過学習をさせるために8次関数で多項式回帰を行う。以下のコードをコメントの指示に従うように書き込み完成させよ。（6点）"
   ]
  },
  {
   "cell_type": "code",
   "execution_count": null,
   "metadata": {},
   "outputs": [],
   "source": [
    "# 線形回帰のクラスを読み込み（1点）\n",
    "\n",
    "\n",
    "# 多項式変換のクラスを読み込み（1点）\n",
    "\n",
    "\n",
    "# 線形回帰のインスタンスを生成（1点）\n",
    "lr = \n",
    "\n",
    "# 8次関数用に特徴量を変換するインスタンスを生成（1点）\n",
    "pol = \n",
    "\n",
    "# Xを8次関数用に変換（1点）\n",
    "X_pol = \n",
    "\n",
    "# 変換したデータを学習させる（1点）\n",
    "\n",
    "\n",
    "# プロット用のデータも同様に変換\n",
    "X_plot_pol = pol.fit_transform(X_plot)\n",
    "# プロット用のデータのyを予測\n",
    "y_plot_pol = lr.predict(X_plot_pol)"
   ]
  },
  {
   "cell_type": "code",
   "execution_count": null,
   "metadata": {},
   "outputs": [],
   "source": [
    "# コード改変禁止\n",
    "\n",
    "# グラフとRMSEを描画\n",
    "from sklearn.metrics import mean_squared_error as mse\n",
    "\n",
    "# データ点をプロット\n",
    "plt.scatter(X, y)\n",
    "# もととなる正弦関数を描画\n",
    "plt.plot(X_plot, y_plot, color='gray')\n",
    "# 通常の多項式回帰のモデルを描画\n",
    "plt.plot(X_plot, y_plot_pol, color='green')\n",
    "# 表示範囲を指定\n",
    "plt.xlim([0,10])\n",
    "plt.ylim([-2, 2])\n",
    "# グラフを描画\n",
    "plt.show()\n",
    "#RMSEを出力\n",
    "print(\"RMSE: %f\" % (mse(y, lr.predict(X_pol)) ** (1/2)))"
   ]
  },
  {
   "cell_type": "markdown",
   "metadata": {},
   "source": [
    "### （2）上で出力したグラフを見ると今回のモデルが過学習していることが分かる。そのためRMSEの値も非常に小さくなっている。では今回の例でRMSEを理論上0にするためには何次以上の関数で多項式回帰をする必要があるか、またその理由も答えよ。（各1点　計2点）"
   ]
  },
  {
   "cell_type": "markdown",
   "metadata": {},
   "source": [
    "次数：　　  理由："
   ]
  },
  {
   "cell_type": "markdown",
   "metadata": {},
   "source": [
    "※ただし、実際にコンピュータで計算させると、上記の理論的な次数ではピタリ0にならないと思います。<br>\n",
    "これは計算の過程で丸め誤差などが発生するためですね。"
   ]
  },
  {
   "cell_type": "markdown",
   "metadata": {},
   "source": [
    "### （3）Ridge回帰を行い過学習を抑えることを考える。以下のコードをコメントの指示に従うように書き込み完成させよ。（3点）"
   ]
  },
  {
   "cell_type": "code",
   "execution_count": null,
   "metadata": {},
   "outputs": [],
   "source": [
    "# Ridge回帰のクラスを読み込み（1点）\n",
    "\n",
    "\n",
    "# Ridge回帰のインスタンスを生成（alphaの値は1000にすること）（1点）\n",
    "\n",
    "\n",
    "# データを学習させる(1点)\n"
   ]
  },
  {
   "cell_type": "code",
   "execution_count": null,
   "metadata": {},
   "outputs": [],
   "source": [
    "# コード改変禁止\n",
    "\n",
    "# グラフを描画\n",
    "\n",
    "# データ点をプロット\n",
    "plt.scatter(X, y)\n",
    "# もととなる三次関数を描画\n",
    "plt.plot(X_plot, y_plot, color='gray')\n",
    "# Ridge回帰によるモデルを描画\n",
    "plt.plot(X_plot, model_ridge.predict(X_plot_pol), color='red')\n",
    "# 通常の多項式回帰のモデルを描画\n",
    "plt.plot(X_plot, y_plot_pol, color='green')\n",
    "# 縦の表示範囲を指定\n",
    "plt.xlim([0,10])\n",
    "plt.ylim([-2, 2])\n",
    "# グラフを描画\n",
    "plt.show()"
   ]
  },
  {
   "cell_type": "markdown",
   "metadata": {},
   "source": [
    "### （4）LASSO回帰を行い過学習を抑えることを考える。以下のコードをコメントの指示に従うように書き込み完成させよ。（3点）"
   ]
  },
  {
   "cell_type": "code",
   "execution_count": null,
   "metadata": {},
   "outputs": [],
   "source": [
    "# LASSO回帰のクラスを読み込み（1点）\n",
    "\n",
    "\n",
    "# LASSO回帰のインスタンスを生成（alphaの値は1000にすること）（1点）\n",
    "\n",
    "\n",
    "# データを学習させる（1点）\n"
   ]
  },
  {
   "cell_type": "code",
   "execution_count": null,
   "metadata": {},
   "outputs": [],
   "source": [
    "# コード改変禁止\n",
    "\n",
    "# グラフを描画する\n",
    "\n",
    "# データ点をプロット\n",
    "plt.scatter(X, y)\n",
    "# もととなる三次関数を描画\n",
    "plt.plot(X_plot, y_plot, color='gray')\n",
    "# 通常の多項式回帰によるモデルを描画\n",
    "plt.plot(X_plot, y_plot_pol, color='green')\n",
    "# LASSO回帰によるモデルを描画\n",
    "plt.plot(X_plot, model_lasso.predict(X_plot_pol), color='blue')\n",
    "# 縦の表示範囲を指定\n",
    "plt.xlim([0,10])\n",
    "plt.ylim([-2, 2])\n",
    "# グラフを描画\n",
    "plt.show()"
   ]
  },
  {
   "cell_type": "markdown",
   "metadata": {},
   "source": [
    "### （5）以上の結果より、今回の例ではRidge回帰とLASSO回帰のどちらの正則化がより適していると言えるか。（1点）"
   ]
  },
  {
   "cell_type": "markdown",
   "metadata": {},
   "source": [
    "ここに回答："
   ]
  },
  {
   "cell_type": "markdown",
   "metadata": {},
   "source": [
    "## 問2　分類・グリッドサーチ（15点）"
   ]
  },
  {
   "cell_type": "markdown",
   "metadata": {},
   "source": [
    "ワインデータセットを用いて、'quality'が６以上の時は1、５以下の時は0として、２種類のワインに分類することを考える。"
   ]
  },
  {
   "cell_type": "code",
   "execution_count": null,
   "metadata": {},
   "outputs": [],
   "source": [
    "# コード改変禁止\n",
    "# データのインポート\n",
    "data = pd.read_csv('test_data.csv')\n",
    "# 'quality' が６以上の時は「１」、５以下の時は「０」に置き換える。\n",
    "data['quality'] = np.where(data['quality'] > 5, 1, 0)\n",
    "## qualityが 0, 1になっていることを確認\n",
    "data.head()"
   ]
  },
  {
   "cell_type": "markdown",
   "metadata": {},
   "source": [
    "### （1）以下の指示にしたがってデータの前処理を行いなさい。（4点）"
   ]
  },
  {
   "cell_type": "code",
   "execution_count": null,
   "metadata": {},
   "outputs": [],
   "source": [
    "#データセットの分割に必要なライブラリをインポート（1点）\n",
    "\n",
    "\n",
    "# Xに全ての説明変数, yに'quality'の値を代入(2点)\n",
    "# ただし、scikit-learnの仕様により、yを１列のベクトルに変換しなければならない事に注意すること。(.reshape(-1)を使う)\n",
    "\n",
    "\n",
    "# データセットの分割（テストデータの割合を25%にすること）（1点）\n"
   ]
  },
  {
   "cell_type": "markdown",
   "metadata": {},
   "source": [
    "### （2）グリッドサーチのモデルを生成しなさい。その際、アルゴリズムはランダムフォレストを使い、データの分割は層化交差検証法(分割数は3)を使ってください。パラメータは、'n_estimators':[400, 500, 600], 'max_depth':[3, 4]とすること。（6点）"
   ]
  },
  {
   "cell_type": "code",
   "execution_count": null,
   "metadata": {},
   "outputs": [],
   "source": [
    "from sklearn.model_selection import StratifiedKFold\n",
    "from sklearn.model_selection import GridSearchCV\n",
    "from sklearn.ensemble import RandomForestClassifier\n",
    "\n",
    "# データの分割方法を指定（層化）（2点）\n",
    "\n",
    "\n",
    "# パラメータの設定（2点）\n",
    "\n",
    "\n",
    "# グリッドサーチのモデルのインスタンスを作成（2点）\n"
   ]
  },
  {
   "cell_type": "markdown",
   "metadata": {},
   "source": [
    "### （3）以下の指示にしたがってモデルの学習を行い精度を評価せよ。（5点）"
   ]
  },
  {
   "cell_type": "code",
   "execution_count": null,
   "metadata": {},
   "outputs": [],
   "source": [
    "# モデルの学習（2点） *時間がかかる可能性あり\n"
   ]
  },
  {
   "cell_type": "code",
   "execution_count": null,
   "metadata": {},
   "outputs": [],
   "source": [
    "# グリッドサーチの結果、最も良かったパラメータの組み合わせを出力（1点）\n"
   ]
  },
  {
   "cell_type": "code",
   "execution_count": null,
   "metadata": {},
   "outputs": [],
   "source": [
    "# その時の精度を出力（1点）\n"
   ]
  },
  {
   "cell_type": "code",
   "execution_count": null,
   "metadata": {},
   "outputs": [],
   "source": [
    "#実際の（テストデータに対する）正答率を出力（1点）\n"
   ]
  }
 ],
 "metadata": {
  "kernelspec": {
   "display_name": "Python 3",
   "language": "python",
   "name": "python3"
  },
  "language_info": {
   "codemirror_mode": {
    "name": "ipython",
    "version": 3
   },
   "file_extension": ".py",
   "mimetype": "text/x-python",
   "name": "python",
   "nbconvert_exporter": "python",
   "pygments_lexer": "ipython3",
   "version": "3.8.3"
  }
 },
 "nbformat": 4,
 "nbformat_minor": 2
}
