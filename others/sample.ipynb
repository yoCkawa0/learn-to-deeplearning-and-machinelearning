{
 "cells": [
  {
   "cell_type": "code",
   "execution_count": 2,
   "metadata": {},
   "outputs": [
    {
     "name": "stdout",
     "output_type": "stream",
     "text": [
      "hello world\n"
     ]
    }
   ],
   "source": [
    "print(\"hello world\")"
   ]
  },
  {
   "cell_type": "code",
   "execution_count": 4,
   "metadata": {},
   "outputs": [
    {
     "name": "stdout",
     "output_type": "stream",
     "text": [
      "10 20\n",
      "30\n"
     ]
    }
   ],
   "source": [
    "input_line = input()\n",
    "s = input_line.rstrip().split(' ')\n",
    "a = int(s[0])\n",
    "b = int(s[1])\n",
    "print(a + b)"
   ]
  },
  {
   "cell_type": "code",
   "execution_count": 5,
   "metadata": {},
   "outputs": [
    {
     "name": "stdout",
     "output_type": "stream",
     "text": [
      "20\n",
      "40\n",
      "50\n",
      "10\n",
      "2\n",
      "2\n"
     ]
    }
   ],
   "source": [
    "a = 0\n",
    "low = 160\n",
    "for i in range(5):\n",
    "    a = int(input())\n",
    "    if low >= a:\n",
    "        low = a\n",
    "print(low)"
   ]
  },
  {
   "cell_type": "code",
   "execution_count": 6,
   "metadata": {},
   "outputs": [
    {
     "name": "stdout",
     "output_type": "stream",
     "text": [
      "20\n",
      "20\n",
      "OK\n"
     ]
    }
   ],
   "source": [
    "input_line1 = input()\n",
    "input_line2 = input()\n",
    "\n",
    "if input_line1 == input_line2:\n",
    "    print(\"OK\")\n",
    "if input_line1 != input_line2:\n",
    "    print(\"NG\")"
   ]
  },
  {
   "cell_type": "code",
   "execution_count": null,
   "metadata": {},
   "outputs": [],
   "source": [
    "g = int(input())\n",
    "\n",
    "for i in range(g):\n",
    "    j = i + 1\n",
    "    if j % 3 == 0 and j % 5 == 0:\n",
    "        print(\"FizzBuzz\")\n",
    "    elif j % 5 == 0:\n",
    "        print(\"Buzz\")\n",
    "    elif j % 3 == 0:\n",
    "        print(\"Fizz\")\n",
    "    else:\n",
    "        print(j)"
   ]
  },
  {
   "cell_type": "code",
   "execution_count": null,
   "metadata": {},
   "outputs": [],
   "source": [
    "g = int(input())\n",
    "\n",
    "for i in range(g):\n",
    "    j = i + 1\n",
    "    if j % 3 == 0 and j % 5 == 0:\n",
    "        print(\"FizzBuzz\")\n",
    "    elif j % 5 == 0:\n",
    "        print(\"Buzz\")\n",
    "    elif j % 3 == 0:\n",
    "        print(\"Fizz\")\n",
    "    else:\n",
    "        print(j)"
   ]
  },
  {
   "cell_type": "code",
   "execution_count": null,
   "metadata": {},
   "outputs": [],
   "source": [
    "# プログラムカウンター\n",
    "l = 0\n",
    "\n",
    "# 入力を格納\n",
    "input_line = input()\n",
    "# スペースで分けてsに格納\n",
    "s = input_line.rstrip().split(' ')\n",
    "\n",
    "# n 座先数\n",
    "n = int(s[0])\n",
    "# m グループ数\n",
    "m = int(s[1])\n",
    "\n",
    "for i in s:\n",
    "    \n",
    "\n",
    "print(n)\n",
    "print(m)\n",
    "\n",
    "# 着席できたグループ数\n",
    "print(l)"
   ]
  },
  {
   "cell_type": "code",
   "execution_count": null,
   "metadata": {},
   "outputs": [],
   "source": [
    "# プログラムカウンター\n",
    "l = 0\n",
    "\n",
    "# 入力を格納\n",
    "input_line = input()\n",
    "# スペースで分けてsに格納\n",
    "s = input_line.rstrip().split(' ')\n",
    "print(s)\n",
    "# n 座先数\n",
    "n = int(s[0])\n",
    "# m グループ数\n",
    "m = int(s[1])\n",
    "\n",
    "# s[2]からs[]\n",
    "c = [input().split() for l in range(m)]\n",
    "# print(c)\n",
    "# 座席を準備\n",
    "o = [0] * n\n",
    "print(o)\n",
    "\n",
    "\n",
    "\n",
    "# x y \n",
    "for x in range(m):\n",
    "    # for y in range(2):\n",
    "    # a = 人数\n",
    "    a = int(c[x][0])\n",
    "    # print(a)\n",
    "    # b = 席の始点\n",
    "    b = int(c[x][1])\n",
    "    # print(b)\n",
    "    # 空席判定\n",
    "    if o[b-1] == 0:\n",
    "        for y in range(a):\n",
    "            o[b+y-1] = 1\n",
    "        # プログラムカウンタに加算\n",
    "        l += 1\n",
    "            \n",
    "    else:\n",
    "        break\n",
    "\n",
    "# print(n)\n",
    "# print(m)\n",
    "\n",
    "# 着席できたグループ数\n",
    "print(l)\n",
    "print(o)\n",
    "\n",
    "\n",
    "\n",
    "\n",
    "\n"
   ]
  },
  {
   "cell_type": "code",
   "execution_count": null,
   "metadata": {},
   "outputs": [],
   "source": [
    "# プログラムカウンター\n",
    "l = 0\n",
    "\n",
    "# 入力を格納\n",
    "input_line = input()\n",
    "# スペースで分けてsに格納\n",
    "s = input_line.rstrip().split(' ')\n",
    "# print(s)\n",
    "# n 座先数\n",
    "n = int(s[0])\n",
    "# m グループ数\n",
    "m = int(s[1])\n",
    "\n",
    "# s[2]からs[]\n",
    "c = [input().split() for l in range(m)]\n",
    "# print(c)\n",
    "# 座席を準備\n",
    "o = [0] * n\n",
    "# print(o)\n",
    "\n",
    "\n",
    "\n",
    "# x y \n",
    "for x in range(m):\n",
    "    # for y in range(2):\n",
    "    # a = 人数\n",
    "    a = int(c[x][0])\n",
    "    # print(a)\n",
    "    # b = 席の始点\n",
    "    b = int(c[x][1])\n",
    "    # print(b)\n",
    "    # 空席判定\n",
    "    if o[b-1] == 0:\n",
    "    # ↑これいるのか？\n",
    "        k = 0\n",
    "        for y in range(a):\n",
    "            if o[b+y-1] == 0:\n",
    "                k = 1\n",
    "                # o[b+y-1] = 1\n",
    "            else:\n",
    "                k = 0\n",
    "                \n",
    "        if k == 1:\n",
    "            for z in range(a):\n",
    "                    o[b+z-1] = 1\n",
    "        else:\n",
    "            break\n",
    "            \n",
    "        # プログラムカウンタに加算\n",
    "        l += 1\n",
    "            \n",
    "    else:\n",
    "        # print(\"NG\")\n",
    "        break\n",
    "\n",
    "# print(n)\n",
    "# print(m)\n",
    "\n",
    "# 着席できたグループ数\n",
    "# print(l)\n",
    "# print(o)\n",
    "\n",
    "print(o.count(1))\n",
    "\n"
   ]
  },
  {
   "cell_type": "code",
   "execution_count": 1,
   "metadata": {},
   "outputs": [
    {
     "name": "stdout",
     "output_type": "stream",
     "text": [
      "Example:\n",
      "Hello\n"
     ]
    }
   ],
   "source": [
    "def first_word(text: str) -> str:\n",
    "    \"\"\"\n",
    "        returns the first word in a given text.\n",
    "    \"\"\"\n",
    "    # your code here\n",
    "    i = text.find(' ')\n",
    "    return text[0:i]\n",
    "\n",
    "\n",
    "if __name__ == '__main__':\n",
    "    print(\"Example:\")\n",
    "    print(first_word(\"Hello world\"))"
   ]
  },
  {
   "cell_type": "code",
   "execution_count": null,
   "metadata": {},
   "outputs": [],
   "source": []
  }
 ],
 "metadata": {
  "interpreter": {
   "hash": "aee8b7b246df8f9039afb4144a1f6fd8d2ca17a180786b69acc140d282b71a49"
  },
  "kernelspec": {
   "display_name": "Python 3.8.5 64-bit",
   "name": "python3"
  },
  "language_info": {
   "codemirror_mode": {
    "name": "ipython",
    "version": 3
   },
   "file_extension": ".py",
   "mimetype": "text/x-python",
   "name": "python",
   "nbconvert_exporter": "python",
   "pygments_lexer": "ipython3",
   "version": "3.8.5"
  }
 },
 "nbformat": 4,
 "nbformat_minor": 4
}
